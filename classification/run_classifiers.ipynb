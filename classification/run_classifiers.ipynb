{
 "cells": [
  {
   "cell_type": "code",
   "execution_count": 1,
   "id": "7df2c88b",
   "metadata": {},
   "outputs": [
    {
     "name": "stdout",
     "output_type": "stream",
     "text": [
      "Running classifier LogisticRegression on data letters and label author\n",
      "INFO: Evaluating classifier(s) ['LogisticRegression']\n"
     ]
    },
    {
     "ename": "Exception",
     "evalue": "Unsupported classifier type C:/ProjectData/Uni/classif_srch/data\\letters/classification\\classifier_data_train.jsonl. Use one of ['DecisionTreeClassifier', 'RandomForestClassifier', 'LogisticRegression', 'MLPClassifier', 'GaussianNB', 'MultinomialNB', 'KNeighborsClassifier', 'LinearSVC', 'Perceptron']",
     "output_type": "error",
     "traceback": [
      "\u001b[1;31m---------------------------------------------------------------------------\u001b[0m",
      "\u001b[1;31mException\u001b[0m                                 Traceback (most recent call last)",
      "File \u001b[1;32mC:\\ProjectData\\Uni\\classif_srch\\github\\classify\\classification\\run_classifier.py:253\u001b[0m\n\u001b[0;32m    249\u001b[0m         run_classifier(args\u001b[38;5;241m.\u001b[39mtraining, args\u001b[38;5;241m.\u001b[39minput, args\u001b[38;5;241m.\u001b[39mlabel, text_labels, args\u001b[38;5;241m.\u001b[39mdense, args\u001b[38;5;241m.\u001b[39mlsa, args\u001b[38;5;241m.\u001b[39moutput, args\u001b[38;5;241m.\u001b[39mmax_train,\n\u001b[0;32m    250\u001b[0m                        args\u001b[38;5;241m.\u001b[39mverbose)\n\u001b[0;32m    252\u001b[0m \u001b[38;5;28;01mif\u001b[39;00m \u001b[38;5;18m__name__\u001b[39m \u001b[38;5;241m==\u001b[39m \u001b[38;5;124m\"\u001b[39m\u001b[38;5;124m__main__\u001b[39m\u001b[38;5;124m\"\u001b[39m:\n\u001b[1;32m--> 253\u001b[0m     \u001b[43mmain\u001b[49m\u001b[43m(\u001b[49m\u001b[43m)\u001b[49m\n",
      "File \u001b[1;32mC:\\ProjectData\\Uni\\classif_srch\\github\\classify\\classification\\run_classifier.py:249\u001b[0m, in \u001b[0;36mmain\u001b[1;34m()\u001b[0m\n\u001b[0;32m    247\u001b[0m text_labels \u001b[38;5;241m=\u001b[39m args\u001b[38;5;241m.\u001b[39mtext_label\u001b[38;5;241m.\u001b[39msplit(\u001b[38;5;124m\"\u001b[39m\u001b[38;5;124m,\u001b[39m\u001b[38;5;124m\"\u001b[39m)\n\u001b[0;32m    248\u001b[0m \u001b[38;5;28;01mfor\u001b[39;00m classifier_type \u001b[38;5;129;01min\u001b[39;00m classifiers:\n\u001b[1;32m--> 249\u001b[0m     \u001b[43mrun_classifier\u001b[49m\u001b[43m(\u001b[49m\u001b[43margs\u001b[49m\u001b[38;5;241;43m.\u001b[39;49m\u001b[43mtraining\u001b[49m\u001b[43m,\u001b[49m\u001b[43m \u001b[49m\u001b[43margs\u001b[49m\u001b[38;5;241;43m.\u001b[39;49m\u001b[43minput\u001b[49m\u001b[43m,\u001b[49m\u001b[43m \u001b[49m\u001b[43margs\u001b[49m\u001b[38;5;241;43m.\u001b[39;49m\u001b[43mlabel\u001b[49m\u001b[43m,\u001b[49m\u001b[43m \u001b[49m\u001b[43mtext_labels\u001b[49m\u001b[43m,\u001b[49m\u001b[43m \u001b[49m\u001b[43margs\u001b[49m\u001b[38;5;241;43m.\u001b[39;49m\u001b[43mdense\u001b[49m\u001b[43m,\u001b[49m\u001b[43m \u001b[49m\u001b[43margs\u001b[49m\u001b[38;5;241;43m.\u001b[39;49m\u001b[43mlsa\u001b[49m\u001b[43m,\u001b[49m\u001b[43m \u001b[49m\u001b[43margs\u001b[49m\u001b[38;5;241;43m.\u001b[39;49m\u001b[43moutput\u001b[49m\u001b[43m,\u001b[49m\u001b[43m \u001b[49m\u001b[43margs\u001b[49m\u001b[38;5;241;43m.\u001b[39;49m\u001b[43mmax_train\u001b[49m\u001b[43m,\u001b[49m\n\u001b[0;32m    250\u001b[0m \u001b[43m                   \u001b[49m\u001b[43margs\u001b[49m\u001b[38;5;241;43m.\u001b[39;49m\u001b[43mverbose\u001b[49m\u001b[43m)\u001b[49m\n",
      "File \u001b[1;32mC:\\ProjectData\\Uni\\classif_srch\\github\\classify\\classification\\run_classifier.py:113\u001b[0m, in \u001b[0;36mrun_classifier\u001b[1;34m(classifier_type, training_data, test_data, class_label, text_labels, dense, lsa, output, max_train, verbose)\u001b[0m\n\u001b[0;32m     96\u001b[0m \u001b[38;5;28;01mdef\u001b[39;00m \u001b[38;5;21mrun_classifier\u001b[39m(classifier_type: \u001b[38;5;28mstr\u001b[39m, training_data: \u001b[38;5;28mstr\u001b[39m, test_data: \u001b[38;5;28mstr\u001b[39m, class_label: \u001b[38;5;28mstr\u001b[39m, text_labels: List[\u001b[38;5;28mstr\u001b[39m],\n\u001b[0;32m     97\u001b[0m                    dense: \u001b[38;5;28mbool\u001b[39m, lsa: \u001b[38;5;28mbool\u001b[39m, output: \u001b[38;5;28mstr\u001b[39m, max_train: \u001b[38;5;28mint\u001b[39m \u001b[38;5;241m=\u001b[39m \u001b[38;5;241m0\u001b[39m, verbose: \u001b[38;5;28mbool\u001b[39m \u001b[38;5;241m=\u001b[39m \u001b[38;5;28;01mFalse\u001b[39;00m) \u001b[38;5;241m-\u001b[39m\u001b[38;5;241m>\u001b[39m Dict:\n\u001b[0;32m     98\u001b[0m \u001b[38;5;250m    \u001b[39m\u001b[38;5;124;03m\"\"\"\u001b[39;00m\n\u001b[0;32m     99\u001b[0m \u001b[38;5;124;03m    Run classifier of classifier_type\u001b[39;00m\n\u001b[0;32m    100\u001b[0m \n\u001b[1;32m   (...)\u001b[0m\n\u001b[0;32m    111\u001b[0m \u001b[38;5;124;03m    :return: The classification report as dictionary\u001b[39;00m\n\u001b[0;32m    112\u001b[0m \u001b[38;5;124;03m    \"\"\"\u001b[39;00m\n\u001b[1;32m--> 113\u001b[0m     classifier \u001b[38;5;241m=\u001b[39m \u001b[43mSklearnClassifier\u001b[49m\u001b[43m(\u001b[49m\u001b[43mclassifier_type\u001b[49m\u001b[43m,\u001b[49m\u001b[43m \u001b[49m\u001b[43mdense\u001b[49m\u001b[38;5;241;43m=\u001b[39;49m\u001b[43mdense\u001b[49m\u001b[43m,\u001b[49m\u001b[43m \u001b[49m\u001b[43mlsa\u001b[49m\u001b[38;5;241;43m=\u001b[39;49m\u001b[43mlsa\u001b[49m\u001b[43m)\u001b[49m\n\u001b[0;32m    114\u001b[0m     \u001b[38;5;28mprint\u001b[39m(\u001b[38;5;124mf\u001b[39m\u001b[38;5;124m\"\u001b[39m\u001b[38;5;124mINFO: Evaluating classification of classifier \u001b[39m\u001b[38;5;132;01m{\u001b[39;00mclassifier\u001b[38;5;241m.\u001b[39mname()\u001b[38;5;132;01m}\u001b[39;00m\u001b[38;5;124m\"\u001b[39m)\n\u001b[0;32m    115\u001b[0m     training_time \u001b[38;5;241m=\u001b[39m \u001b[38;5;241m0\u001b[39m\n",
      "File \u001b[1;32mC:\\ProjectData\\Uni\\classif_srch\\github\\classify\\classification\\sklearn_classifiers.py:86\u001b[0m, in \u001b[0;36mSklearnClassifier.__init__\u001b[1;34m(self, classifier_type, dense, lsa, model_folder_path, verbose)\u001b[0m\n\u001b[0;32m     84\u001b[0m     \u001b[38;5;28mself\u001b[39m\u001b[38;5;241m.\u001b[39msklearn_classifier \u001b[38;5;241m=\u001b[39m Perceptron()\n\u001b[0;32m     85\u001b[0m \u001b[38;5;28;01melse\u001b[39;00m:\n\u001b[1;32m---> 86\u001b[0m     \u001b[38;5;28;01mraise\u001b[39;00m \u001b[38;5;167;01mException\u001b[39;00m(\n\u001b[0;32m     87\u001b[0m         \u001b[38;5;124mf\u001b[39m\u001b[38;5;124m\"\u001b[39m\u001b[38;5;124mUnsupported classifier type \u001b[39m\u001b[38;5;132;01m{\u001b[39;00mclassifier_type\u001b[38;5;132;01m}\u001b[39;00m\u001b[38;5;124m. Use one of \u001b[39m\u001b[38;5;132;01m{\u001b[39;00m\u001b[38;5;28mself\u001b[39m\u001b[38;5;241m.\u001b[39msupported_classifiers\u001b[38;5;132;01m}\u001b[39;00m\u001b[38;5;124m\"\u001b[39m)\n\u001b[0;32m     89\u001b[0m \u001b[38;5;28mself\u001b[39m\u001b[38;5;241m.\u001b[39mclassifier_type \u001b[38;5;241m=\u001b[39m classifier_type\n\u001b[0;32m     90\u001b[0m \u001b[38;5;28mself\u001b[39m\u001b[38;5;241m.\u001b[39mdense \u001b[38;5;241m=\u001b[39m dense\n",
      "\u001b[1;31mException\u001b[0m: Unsupported classifier type C:/ProjectData/Uni/classif_srch/data\\letters/classification\\classifier_data_train.jsonl. Use one of ['DecisionTreeClassifier', 'RandomForestClassifier', 'LogisticRegression', 'MLPClassifier', 'GaussianNB', 'MultinomialNB', 'KNeighborsClassifier', 'LinearSVC', 'Perceptron']"
     ]
    },
    {
     "name": "stdout",
     "output_type": "stream",
     "text": [
      "Running classifier LogisticRegression on data letters and label lang\n",
      "INFO: Evaluating classifier(s) ['LogisticRegression']\n"
     ]
    },
    {
     "ename": "Exception",
     "evalue": "Unsupported classifier type C:/ProjectData/Uni/classif_srch/data\\letters/classification\\classifier_data_train.jsonl. Use one of ['DecisionTreeClassifier', 'RandomForestClassifier', 'LogisticRegression', 'MLPClassifier', 'GaussianNB', 'MultinomialNB', 'KNeighborsClassifier', 'LinearSVC', 'Perceptron']",
     "output_type": "error",
     "traceback": [
      "\u001b[1;31m---------------------------------------------------------------------------\u001b[0m",
      "\u001b[1;31mException\u001b[0m                                 Traceback (most recent call last)",
      "File \u001b[1;32mC:\\ProjectData\\Uni\\classif_srch\\github\\classify\\classification\\run_classifier.py:253\u001b[0m\n\u001b[0;32m    249\u001b[0m         run_classifier(args\u001b[38;5;241m.\u001b[39mtraining, args\u001b[38;5;241m.\u001b[39minput, args\u001b[38;5;241m.\u001b[39mlabel, text_labels, args\u001b[38;5;241m.\u001b[39mdense, args\u001b[38;5;241m.\u001b[39mlsa, args\u001b[38;5;241m.\u001b[39moutput, args\u001b[38;5;241m.\u001b[39mmax_train,\n\u001b[0;32m    250\u001b[0m                        args\u001b[38;5;241m.\u001b[39mverbose)\n\u001b[0;32m    252\u001b[0m \u001b[38;5;28;01mif\u001b[39;00m \u001b[38;5;18m__name__\u001b[39m \u001b[38;5;241m==\u001b[39m \u001b[38;5;124m\"\u001b[39m\u001b[38;5;124m__main__\u001b[39m\u001b[38;5;124m\"\u001b[39m:\n\u001b[1;32m--> 253\u001b[0m     \u001b[43mmain\u001b[49m\u001b[43m(\u001b[49m\u001b[43m)\u001b[49m\n",
      "File \u001b[1;32mC:\\ProjectData\\Uni\\classif_srch\\github\\classify\\classification\\run_classifier.py:249\u001b[0m, in \u001b[0;36mmain\u001b[1;34m()\u001b[0m\n\u001b[0;32m    247\u001b[0m text_labels \u001b[38;5;241m=\u001b[39m args\u001b[38;5;241m.\u001b[39mtext_label\u001b[38;5;241m.\u001b[39msplit(\u001b[38;5;124m\"\u001b[39m\u001b[38;5;124m,\u001b[39m\u001b[38;5;124m\"\u001b[39m)\n\u001b[0;32m    248\u001b[0m \u001b[38;5;28;01mfor\u001b[39;00m classifier_type \u001b[38;5;129;01min\u001b[39;00m classifiers:\n\u001b[1;32m--> 249\u001b[0m     \u001b[43mrun_classifier\u001b[49m\u001b[43m(\u001b[49m\u001b[43margs\u001b[49m\u001b[38;5;241;43m.\u001b[39;49m\u001b[43mtraining\u001b[49m\u001b[43m,\u001b[49m\u001b[43m \u001b[49m\u001b[43margs\u001b[49m\u001b[38;5;241;43m.\u001b[39;49m\u001b[43minput\u001b[49m\u001b[43m,\u001b[49m\u001b[43m \u001b[49m\u001b[43margs\u001b[49m\u001b[38;5;241;43m.\u001b[39;49m\u001b[43mlabel\u001b[49m\u001b[43m,\u001b[49m\u001b[43m \u001b[49m\u001b[43mtext_labels\u001b[49m\u001b[43m,\u001b[49m\u001b[43m \u001b[49m\u001b[43margs\u001b[49m\u001b[38;5;241;43m.\u001b[39;49m\u001b[43mdense\u001b[49m\u001b[43m,\u001b[49m\u001b[43m \u001b[49m\u001b[43margs\u001b[49m\u001b[38;5;241;43m.\u001b[39;49m\u001b[43mlsa\u001b[49m\u001b[43m,\u001b[49m\u001b[43m \u001b[49m\u001b[43margs\u001b[49m\u001b[38;5;241;43m.\u001b[39;49m\u001b[43moutput\u001b[49m\u001b[43m,\u001b[49m\u001b[43m \u001b[49m\u001b[43margs\u001b[49m\u001b[38;5;241;43m.\u001b[39;49m\u001b[43mmax_train\u001b[49m\u001b[43m,\u001b[49m\n\u001b[0;32m    250\u001b[0m \u001b[43m                   \u001b[49m\u001b[43margs\u001b[49m\u001b[38;5;241;43m.\u001b[39;49m\u001b[43mverbose\u001b[49m\u001b[43m)\u001b[49m\n",
      "File \u001b[1;32mC:\\ProjectData\\Uni\\classif_srch\\github\\classify\\classification\\run_classifier.py:113\u001b[0m, in \u001b[0;36mrun_classifier\u001b[1;34m(classifier_type, training_data, test_data, class_label, text_labels, dense, lsa, output, max_train, verbose)\u001b[0m\n\u001b[0;32m     96\u001b[0m \u001b[38;5;28;01mdef\u001b[39;00m \u001b[38;5;21mrun_classifier\u001b[39m(classifier_type: \u001b[38;5;28mstr\u001b[39m, training_data: \u001b[38;5;28mstr\u001b[39m, test_data: \u001b[38;5;28mstr\u001b[39m, class_label: \u001b[38;5;28mstr\u001b[39m, text_labels: List[\u001b[38;5;28mstr\u001b[39m],\n\u001b[0;32m     97\u001b[0m                    dense: \u001b[38;5;28mbool\u001b[39m, lsa: \u001b[38;5;28mbool\u001b[39m, output: \u001b[38;5;28mstr\u001b[39m, max_train: \u001b[38;5;28mint\u001b[39m \u001b[38;5;241m=\u001b[39m \u001b[38;5;241m0\u001b[39m, verbose: \u001b[38;5;28mbool\u001b[39m \u001b[38;5;241m=\u001b[39m \u001b[38;5;28;01mFalse\u001b[39;00m) \u001b[38;5;241m-\u001b[39m\u001b[38;5;241m>\u001b[39m Dict:\n\u001b[0;32m     98\u001b[0m \u001b[38;5;250m    \u001b[39m\u001b[38;5;124;03m\"\"\"\u001b[39;00m\n\u001b[0;32m     99\u001b[0m \u001b[38;5;124;03m    Run classifier of classifier_type\u001b[39;00m\n\u001b[0;32m    100\u001b[0m \n\u001b[1;32m   (...)\u001b[0m\n\u001b[0;32m    111\u001b[0m \u001b[38;5;124;03m    :return: The classification report as dictionary\u001b[39;00m\n\u001b[0;32m    112\u001b[0m \u001b[38;5;124;03m    \"\"\"\u001b[39;00m\n\u001b[1;32m--> 113\u001b[0m     classifier \u001b[38;5;241m=\u001b[39m \u001b[43mSklearnClassifier\u001b[49m\u001b[43m(\u001b[49m\u001b[43mclassifier_type\u001b[49m\u001b[43m,\u001b[49m\u001b[43m \u001b[49m\u001b[43mdense\u001b[49m\u001b[38;5;241;43m=\u001b[39;49m\u001b[43mdense\u001b[49m\u001b[43m,\u001b[49m\u001b[43m \u001b[49m\u001b[43mlsa\u001b[49m\u001b[38;5;241;43m=\u001b[39;49m\u001b[43mlsa\u001b[49m\u001b[43m)\u001b[49m\n\u001b[0;32m    114\u001b[0m     \u001b[38;5;28mprint\u001b[39m(\u001b[38;5;124mf\u001b[39m\u001b[38;5;124m\"\u001b[39m\u001b[38;5;124mINFO: Evaluating classification of classifier \u001b[39m\u001b[38;5;132;01m{\u001b[39;00mclassifier\u001b[38;5;241m.\u001b[39mname()\u001b[38;5;132;01m}\u001b[39;00m\u001b[38;5;124m\"\u001b[39m)\n\u001b[0;32m    115\u001b[0m     training_time \u001b[38;5;241m=\u001b[39m \u001b[38;5;241m0\u001b[39m\n",
      "File \u001b[1;32mC:\\ProjectData\\Uni\\classif_srch\\github\\classify\\classification\\sklearn_classifiers.py:86\u001b[0m, in \u001b[0;36mSklearnClassifier.__init__\u001b[1;34m(self, classifier_type, dense, lsa, model_folder_path, verbose)\u001b[0m\n\u001b[0;32m     84\u001b[0m     \u001b[38;5;28mself\u001b[39m\u001b[38;5;241m.\u001b[39msklearn_classifier \u001b[38;5;241m=\u001b[39m Perceptron()\n\u001b[0;32m     85\u001b[0m \u001b[38;5;28;01melse\u001b[39;00m:\n\u001b[1;32m---> 86\u001b[0m     \u001b[38;5;28;01mraise\u001b[39;00m \u001b[38;5;167;01mException\u001b[39;00m(\n\u001b[0;32m     87\u001b[0m         \u001b[38;5;124mf\u001b[39m\u001b[38;5;124m\"\u001b[39m\u001b[38;5;124mUnsupported classifier type \u001b[39m\u001b[38;5;132;01m{\u001b[39;00mclassifier_type\u001b[38;5;132;01m}\u001b[39;00m\u001b[38;5;124m. Use one of \u001b[39m\u001b[38;5;132;01m{\u001b[39;00m\u001b[38;5;28mself\u001b[39m\u001b[38;5;241m.\u001b[39msupported_classifiers\u001b[38;5;132;01m}\u001b[39;00m\u001b[38;5;124m\"\u001b[39m)\n\u001b[0;32m     89\u001b[0m \u001b[38;5;28mself\u001b[39m\u001b[38;5;241m.\u001b[39mclassifier_type \u001b[38;5;241m=\u001b[39m classifier_type\n\u001b[0;32m     90\u001b[0m \u001b[38;5;28mself\u001b[39m\u001b[38;5;241m.\u001b[39mdense \u001b[38;5;241m=\u001b[39m dense\n",
      "\u001b[1;31mException\u001b[0m: Unsupported classifier type C:/ProjectData/Uni/classif_srch/data\\letters/classification\\classifier_data_train.jsonl. Use one of ['DecisionTreeClassifier', 'RandomForestClassifier', 'LogisticRegression', 'MLPClassifier', 'GaussianNB', 'MultinomialNB', 'KNeighborsClassifier', 'LinearSVC', 'Perceptron']"
     ]
    },
    {
     "name": "stdout",
     "output_type": "stream",
     "text": [
      "Running classifier LogisticRegression on data news and label category\n",
      "INFO: Evaluating classifier(s) ['LogisticRegression']\n"
     ]
    },
    {
     "ename": "Exception",
     "evalue": "Unsupported classifier type C:/ProjectData/Uni/classif_srch/data\\news/classification\\classifier_data_train.jsonl. Use one of ['DecisionTreeClassifier', 'RandomForestClassifier', 'LogisticRegression', 'MLPClassifier', 'GaussianNB', 'MultinomialNB', 'KNeighborsClassifier', 'LinearSVC', 'Perceptron']",
     "output_type": "error",
     "traceback": [
      "\u001b[1;31m---------------------------------------------------------------------------\u001b[0m",
      "\u001b[1;31mException\u001b[0m                                 Traceback (most recent call last)",
      "File \u001b[1;32mC:\\ProjectData\\Uni\\classif_srch\\github\\classify\\classification\\run_classifier.py:253\u001b[0m\n\u001b[0;32m    249\u001b[0m         run_classifier(args\u001b[38;5;241m.\u001b[39mtraining, args\u001b[38;5;241m.\u001b[39minput, args\u001b[38;5;241m.\u001b[39mlabel, text_labels, args\u001b[38;5;241m.\u001b[39mdense, args\u001b[38;5;241m.\u001b[39mlsa, args\u001b[38;5;241m.\u001b[39moutput, args\u001b[38;5;241m.\u001b[39mmax_train,\n\u001b[0;32m    250\u001b[0m                        args\u001b[38;5;241m.\u001b[39mverbose)\n\u001b[0;32m    252\u001b[0m \u001b[38;5;28;01mif\u001b[39;00m \u001b[38;5;18m__name__\u001b[39m \u001b[38;5;241m==\u001b[39m \u001b[38;5;124m\"\u001b[39m\u001b[38;5;124m__main__\u001b[39m\u001b[38;5;124m\"\u001b[39m:\n\u001b[1;32m--> 253\u001b[0m     \u001b[43mmain\u001b[49m\u001b[43m(\u001b[49m\u001b[43m)\u001b[49m\n",
      "File \u001b[1;32mC:\\ProjectData\\Uni\\classif_srch\\github\\classify\\classification\\run_classifier.py:249\u001b[0m, in \u001b[0;36mmain\u001b[1;34m()\u001b[0m\n\u001b[0;32m    247\u001b[0m text_labels \u001b[38;5;241m=\u001b[39m args\u001b[38;5;241m.\u001b[39mtext_label\u001b[38;5;241m.\u001b[39msplit(\u001b[38;5;124m\"\u001b[39m\u001b[38;5;124m,\u001b[39m\u001b[38;5;124m\"\u001b[39m)\n\u001b[0;32m    248\u001b[0m \u001b[38;5;28;01mfor\u001b[39;00m classifier_type \u001b[38;5;129;01min\u001b[39;00m classifiers:\n\u001b[1;32m--> 249\u001b[0m     \u001b[43mrun_classifier\u001b[49m\u001b[43m(\u001b[49m\u001b[43margs\u001b[49m\u001b[38;5;241;43m.\u001b[39;49m\u001b[43mtraining\u001b[49m\u001b[43m,\u001b[49m\u001b[43m \u001b[49m\u001b[43margs\u001b[49m\u001b[38;5;241;43m.\u001b[39;49m\u001b[43minput\u001b[49m\u001b[43m,\u001b[49m\u001b[43m \u001b[49m\u001b[43margs\u001b[49m\u001b[38;5;241;43m.\u001b[39;49m\u001b[43mlabel\u001b[49m\u001b[43m,\u001b[49m\u001b[43m \u001b[49m\u001b[43mtext_labels\u001b[49m\u001b[43m,\u001b[49m\u001b[43m \u001b[49m\u001b[43margs\u001b[49m\u001b[38;5;241;43m.\u001b[39;49m\u001b[43mdense\u001b[49m\u001b[43m,\u001b[49m\u001b[43m \u001b[49m\u001b[43margs\u001b[49m\u001b[38;5;241;43m.\u001b[39;49m\u001b[43mlsa\u001b[49m\u001b[43m,\u001b[49m\u001b[43m \u001b[49m\u001b[43margs\u001b[49m\u001b[38;5;241;43m.\u001b[39;49m\u001b[43moutput\u001b[49m\u001b[43m,\u001b[49m\u001b[43m \u001b[49m\u001b[43margs\u001b[49m\u001b[38;5;241;43m.\u001b[39;49m\u001b[43mmax_train\u001b[49m\u001b[43m,\u001b[49m\n\u001b[0;32m    250\u001b[0m \u001b[43m                   \u001b[49m\u001b[43margs\u001b[49m\u001b[38;5;241;43m.\u001b[39;49m\u001b[43mverbose\u001b[49m\u001b[43m)\u001b[49m\n",
      "File \u001b[1;32mC:\\ProjectData\\Uni\\classif_srch\\github\\classify\\classification\\run_classifier.py:113\u001b[0m, in \u001b[0;36mrun_classifier\u001b[1;34m(classifier_type, training_data, test_data, class_label, text_labels, dense, lsa, output, max_train, verbose)\u001b[0m\n\u001b[0;32m     96\u001b[0m \u001b[38;5;28;01mdef\u001b[39;00m \u001b[38;5;21mrun_classifier\u001b[39m(classifier_type: \u001b[38;5;28mstr\u001b[39m, training_data: \u001b[38;5;28mstr\u001b[39m, test_data: \u001b[38;5;28mstr\u001b[39m, class_label: \u001b[38;5;28mstr\u001b[39m, text_labels: List[\u001b[38;5;28mstr\u001b[39m],\n\u001b[0;32m     97\u001b[0m                    dense: \u001b[38;5;28mbool\u001b[39m, lsa: \u001b[38;5;28mbool\u001b[39m, output: \u001b[38;5;28mstr\u001b[39m, max_train: \u001b[38;5;28mint\u001b[39m \u001b[38;5;241m=\u001b[39m \u001b[38;5;241m0\u001b[39m, verbose: \u001b[38;5;28mbool\u001b[39m \u001b[38;5;241m=\u001b[39m \u001b[38;5;28;01mFalse\u001b[39;00m) \u001b[38;5;241m-\u001b[39m\u001b[38;5;241m>\u001b[39m Dict:\n\u001b[0;32m     98\u001b[0m \u001b[38;5;250m    \u001b[39m\u001b[38;5;124;03m\"\"\"\u001b[39;00m\n\u001b[0;32m     99\u001b[0m \u001b[38;5;124;03m    Run classifier of classifier_type\u001b[39;00m\n\u001b[0;32m    100\u001b[0m \n\u001b[1;32m   (...)\u001b[0m\n\u001b[0;32m    111\u001b[0m \u001b[38;5;124;03m    :return: The classification report as dictionary\u001b[39;00m\n\u001b[0;32m    112\u001b[0m \u001b[38;5;124;03m    \"\"\"\u001b[39;00m\n\u001b[1;32m--> 113\u001b[0m     classifier \u001b[38;5;241m=\u001b[39m \u001b[43mSklearnClassifier\u001b[49m\u001b[43m(\u001b[49m\u001b[43mclassifier_type\u001b[49m\u001b[43m,\u001b[49m\u001b[43m \u001b[49m\u001b[43mdense\u001b[49m\u001b[38;5;241;43m=\u001b[39;49m\u001b[43mdense\u001b[49m\u001b[43m,\u001b[49m\u001b[43m \u001b[49m\u001b[43mlsa\u001b[49m\u001b[38;5;241;43m=\u001b[39;49m\u001b[43mlsa\u001b[49m\u001b[43m)\u001b[49m\n\u001b[0;32m    114\u001b[0m     \u001b[38;5;28mprint\u001b[39m(\u001b[38;5;124mf\u001b[39m\u001b[38;5;124m\"\u001b[39m\u001b[38;5;124mINFO: Evaluating classification of classifier \u001b[39m\u001b[38;5;132;01m{\u001b[39;00mclassifier\u001b[38;5;241m.\u001b[39mname()\u001b[38;5;132;01m}\u001b[39;00m\u001b[38;5;124m\"\u001b[39m)\n\u001b[0;32m    115\u001b[0m     training_time \u001b[38;5;241m=\u001b[39m \u001b[38;5;241m0\u001b[39m\n",
      "File \u001b[1;32mC:\\ProjectData\\Uni\\classif_srch\\github\\classify\\classification\\sklearn_classifiers.py:86\u001b[0m, in \u001b[0;36mSklearnClassifier.__init__\u001b[1;34m(self, classifier_type, dense, lsa, model_folder_path, verbose)\u001b[0m\n\u001b[0;32m     84\u001b[0m     \u001b[38;5;28mself\u001b[39m\u001b[38;5;241m.\u001b[39msklearn_classifier \u001b[38;5;241m=\u001b[39m Perceptron()\n\u001b[0;32m     85\u001b[0m \u001b[38;5;28;01melse\u001b[39;00m:\n\u001b[1;32m---> 86\u001b[0m     \u001b[38;5;28;01mraise\u001b[39;00m \u001b[38;5;167;01mException\u001b[39;00m(\n\u001b[0;32m     87\u001b[0m         \u001b[38;5;124mf\u001b[39m\u001b[38;5;124m\"\u001b[39m\u001b[38;5;124mUnsupported classifier type \u001b[39m\u001b[38;5;132;01m{\u001b[39;00mclassifier_type\u001b[38;5;132;01m}\u001b[39;00m\u001b[38;5;124m. Use one of \u001b[39m\u001b[38;5;132;01m{\u001b[39;00m\u001b[38;5;28mself\u001b[39m\u001b[38;5;241m.\u001b[39msupported_classifiers\u001b[38;5;132;01m}\u001b[39;00m\u001b[38;5;124m\"\u001b[39m)\n\u001b[0;32m     89\u001b[0m \u001b[38;5;28mself\u001b[39m\u001b[38;5;241m.\u001b[39mclassifier_type \u001b[38;5;241m=\u001b[39m classifier_type\n\u001b[0;32m     90\u001b[0m \u001b[38;5;28mself\u001b[39m\u001b[38;5;241m.\u001b[39mdense \u001b[38;5;241m=\u001b[39m dense\n",
      "\u001b[1;31mException\u001b[0m: Unsupported classifier type C:/ProjectData/Uni/classif_srch/data\\news/classification\\classifier_data_train.jsonl. Use one of ['DecisionTreeClassifier', 'RandomForestClassifier', 'LogisticRegression', 'MLPClassifier', 'GaussianNB', 'MultinomialNB', 'KNeighborsClassifier', 'LinearSVC', 'Perceptron']"
     ]
    },
    {
     "name": "stdout",
     "output_type": "stream",
     "text": [
      "Running classifier LogisticRegression on data sentiment and label sentiment\n",
      "INFO: Evaluating classifier(s) ['LogisticRegression']\n"
     ]
    },
    {
     "ename": "Exception",
     "evalue": "Unsupported classifier type C:/ProjectData/Uni/classif_srch/data\\sentiment/classification\\classifier_data_train.jsonl. Use one of ['DecisionTreeClassifier', 'RandomForestClassifier', 'LogisticRegression', 'MLPClassifier', 'GaussianNB', 'MultinomialNB', 'KNeighborsClassifier', 'LinearSVC', 'Perceptron']",
     "output_type": "error",
     "traceback": [
      "\u001b[1;31m---------------------------------------------------------------------------\u001b[0m",
      "\u001b[1;31mException\u001b[0m                                 Traceback (most recent call last)",
      "File \u001b[1;32mC:\\ProjectData\\Uni\\classif_srch\\github\\classify\\classification\\run_classifier.py:253\u001b[0m\n\u001b[0;32m    249\u001b[0m         run_classifier(args\u001b[38;5;241m.\u001b[39mtraining, args\u001b[38;5;241m.\u001b[39minput, args\u001b[38;5;241m.\u001b[39mlabel, text_labels, args\u001b[38;5;241m.\u001b[39mdense, args\u001b[38;5;241m.\u001b[39mlsa, args\u001b[38;5;241m.\u001b[39moutput, args\u001b[38;5;241m.\u001b[39mmax_train,\n\u001b[0;32m    250\u001b[0m                        args\u001b[38;5;241m.\u001b[39mverbose)\n\u001b[0;32m    252\u001b[0m \u001b[38;5;28;01mif\u001b[39;00m \u001b[38;5;18m__name__\u001b[39m \u001b[38;5;241m==\u001b[39m \u001b[38;5;124m\"\u001b[39m\u001b[38;5;124m__main__\u001b[39m\u001b[38;5;124m\"\u001b[39m:\n\u001b[1;32m--> 253\u001b[0m     \u001b[43mmain\u001b[49m\u001b[43m(\u001b[49m\u001b[43m)\u001b[49m\n",
      "File \u001b[1;32mC:\\ProjectData\\Uni\\classif_srch\\github\\classify\\classification\\run_classifier.py:249\u001b[0m, in \u001b[0;36mmain\u001b[1;34m()\u001b[0m\n\u001b[0;32m    247\u001b[0m text_labels \u001b[38;5;241m=\u001b[39m args\u001b[38;5;241m.\u001b[39mtext_label\u001b[38;5;241m.\u001b[39msplit(\u001b[38;5;124m\"\u001b[39m\u001b[38;5;124m,\u001b[39m\u001b[38;5;124m\"\u001b[39m)\n\u001b[0;32m    248\u001b[0m \u001b[38;5;28;01mfor\u001b[39;00m classifier_type \u001b[38;5;129;01min\u001b[39;00m classifiers:\n\u001b[1;32m--> 249\u001b[0m     \u001b[43mrun_classifier\u001b[49m\u001b[43m(\u001b[49m\u001b[43margs\u001b[49m\u001b[38;5;241;43m.\u001b[39;49m\u001b[43mtraining\u001b[49m\u001b[43m,\u001b[49m\u001b[43m \u001b[49m\u001b[43margs\u001b[49m\u001b[38;5;241;43m.\u001b[39;49m\u001b[43minput\u001b[49m\u001b[43m,\u001b[49m\u001b[43m \u001b[49m\u001b[43margs\u001b[49m\u001b[38;5;241;43m.\u001b[39;49m\u001b[43mlabel\u001b[49m\u001b[43m,\u001b[49m\u001b[43m \u001b[49m\u001b[43mtext_labels\u001b[49m\u001b[43m,\u001b[49m\u001b[43m \u001b[49m\u001b[43margs\u001b[49m\u001b[38;5;241;43m.\u001b[39;49m\u001b[43mdense\u001b[49m\u001b[43m,\u001b[49m\u001b[43m \u001b[49m\u001b[43margs\u001b[49m\u001b[38;5;241;43m.\u001b[39;49m\u001b[43mlsa\u001b[49m\u001b[43m,\u001b[49m\u001b[43m \u001b[49m\u001b[43margs\u001b[49m\u001b[38;5;241;43m.\u001b[39;49m\u001b[43moutput\u001b[49m\u001b[43m,\u001b[49m\u001b[43m \u001b[49m\u001b[43margs\u001b[49m\u001b[38;5;241;43m.\u001b[39;49m\u001b[43mmax_train\u001b[49m\u001b[43m,\u001b[49m\n\u001b[0;32m    250\u001b[0m \u001b[43m                   \u001b[49m\u001b[43margs\u001b[49m\u001b[38;5;241;43m.\u001b[39;49m\u001b[43mverbose\u001b[49m\u001b[43m)\u001b[49m\n",
      "File \u001b[1;32mC:\\ProjectData\\Uni\\classif_srch\\github\\classify\\classification\\run_classifier.py:113\u001b[0m, in \u001b[0;36mrun_classifier\u001b[1;34m(classifier_type, training_data, test_data, class_label, text_labels, dense, lsa, output, max_train, verbose)\u001b[0m\n\u001b[0;32m     96\u001b[0m \u001b[38;5;28;01mdef\u001b[39;00m \u001b[38;5;21mrun_classifier\u001b[39m(classifier_type: \u001b[38;5;28mstr\u001b[39m, training_data: \u001b[38;5;28mstr\u001b[39m, test_data: \u001b[38;5;28mstr\u001b[39m, class_label: \u001b[38;5;28mstr\u001b[39m, text_labels: List[\u001b[38;5;28mstr\u001b[39m],\n\u001b[0;32m     97\u001b[0m                    dense: \u001b[38;5;28mbool\u001b[39m, lsa: \u001b[38;5;28mbool\u001b[39m, output: \u001b[38;5;28mstr\u001b[39m, max_train: \u001b[38;5;28mint\u001b[39m \u001b[38;5;241m=\u001b[39m \u001b[38;5;241m0\u001b[39m, verbose: \u001b[38;5;28mbool\u001b[39m \u001b[38;5;241m=\u001b[39m \u001b[38;5;28;01mFalse\u001b[39;00m) \u001b[38;5;241m-\u001b[39m\u001b[38;5;241m>\u001b[39m Dict:\n\u001b[0;32m     98\u001b[0m \u001b[38;5;250m    \u001b[39m\u001b[38;5;124;03m\"\"\"\u001b[39;00m\n\u001b[0;32m     99\u001b[0m \u001b[38;5;124;03m    Run classifier of classifier_type\u001b[39;00m\n\u001b[0;32m    100\u001b[0m \n\u001b[1;32m   (...)\u001b[0m\n\u001b[0;32m    111\u001b[0m \u001b[38;5;124;03m    :return: The classification report as dictionary\u001b[39;00m\n\u001b[0;32m    112\u001b[0m \u001b[38;5;124;03m    \"\"\"\u001b[39;00m\n\u001b[1;32m--> 113\u001b[0m     classifier \u001b[38;5;241m=\u001b[39m \u001b[43mSklearnClassifier\u001b[49m\u001b[43m(\u001b[49m\u001b[43mclassifier_type\u001b[49m\u001b[43m,\u001b[49m\u001b[43m \u001b[49m\u001b[43mdense\u001b[49m\u001b[38;5;241;43m=\u001b[39;49m\u001b[43mdense\u001b[49m\u001b[43m,\u001b[49m\u001b[43m \u001b[49m\u001b[43mlsa\u001b[49m\u001b[38;5;241;43m=\u001b[39;49m\u001b[43mlsa\u001b[49m\u001b[43m)\u001b[49m\n\u001b[0;32m    114\u001b[0m     \u001b[38;5;28mprint\u001b[39m(\u001b[38;5;124mf\u001b[39m\u001b[38;5;124m\"\u001b[39m\u001b[38;5;124mINFO: Evaluating classification of classifier \u001b[39m\u001b[38;5;132;01m{\u001b[39;00mclassifier\u001b[38;5;241m.\u001b[39mname()\u001b[38;5;132;01m}\u001b[39;00m\u001b[38;5;124m\"\u001b[39m)\n\u001b[0;32m    115\u001b[0m     training_time \u001b[38;5;241m=\u001b[39m \u001b[38;5;241m0\u001b[39m\n",
      "File \u001b[1;32mC:\\ProjectData\\Uni\\classif_srch\\github\\classify\\classification\\sklearn_classifiers.py:86\u001b[0m, in \u001b[0;36mSklearnClassifier.__init__\u001b[1;34m(self, classifier_type, dense, lsa, model_folder_path, verbose)\u001b[0m\n\u001b[0;32m     84\u001b[0m     \u001b[38;5;28mself\u001b[39m\u001b[38;5;241m.\u001b[39msklearn_classifier \u001b[38;5;241m=\u001b[39m Perceptron()\n\u001b[0;32m     85\u001b[0m \u001b[38;5;28;01melse\u001b[39;00m:\n\u001b[1;32m---> 86\u001b[0m     \u001b[38;5;28;01mraise\u001b[39;00m \u001b[38;5;167;01mException\u001b[39;00m(\n\u001b[0;32m     87\u001b[0m         \u001b[38;5;124mf\u001b[39m\u001b[38;5;124m\"\u001b[39m\u001b[38;5;124mUnsupported classifier type \u001b[39m\u001b[38;5;132;01m{\u001b[39;00mclassifier_type\u001b[38;5;132;01m}\u001b[39;00m\u001b[38;5;124m. Use one of \u001b[39m\u001b[38;5;132;01m{\u001b[39;00m\u001b[38;5;28mself\u001b[39m\u001b[38;5;241m.\u001b[39msupported_classifiers\u001b[38;5;132;01m}\u001b[39;00m\u001b[38;5;124m\"\u001b[39m)\n\u001b[0;32m     89\u001b[0m \u001b[38;5;28mself\u001b[39m\u001b[38;5;241m.\u001b[39mclassifier_type \u001b[38;5;241m=\u001b[39m classifier_type\n\u001b[0;32m     90\u001b[0m \u001b[38;5;28mself\u001b[39m\u001b[38;5;241m.\u001b[39mdense \u001b[38;5;241m=\u001b[39m dense\n",
      "\u001b[1;31mException\u001b[0m: Unsupported classifier type C:/ProjectData/Uni/classif_srch/data\\sentiment/classification\\classifier_data_train.jsonl. Use one of ['DecisionTreeClassifier', 'RandomForestClassifier', 'LogisticRegression', 'MLPClassifier', 'GaussianNB', 'MultinomialNB', 'KNeighborsClassifier', 'LinearSVC', 'Perceptron']"
     ]
    }
   ],
   "source": [
    "import os\n",
    "# Convenience script (python) to run some classifiers\n",
    "base_data_dir = r\"C:/ProjectData/Uni/classif_srch/data\"\n",
    "letters_data_dir = os.path.join(base_data_dir, \"letters/classification\")\n",
    "news_data_dir = os.path.join(base_data_dir, \"news/classification\")\n",
    "sentiment_data_dir = os.path.join(base_data_dir, \"sentiment/classification\")\n",
    "\n",
    "# Data description\n",
    "# labels are the labels to use for classification\n",
    "# text_label is the label comma separated list of text fields\n",
    "data_configurations = [\n",
    "    {\n",
    "        \"data_dir\": letters_data_dir,\n",
    "        \"name\": \"letters\",\n",
    "        \"labels\"  : [\"author\", \"lang\"],\n",
    "        \"text_label\" : \"text\"\n",
    "    },\n",
    "    {\n",
    "        \"data_dir\": news_data_dir,\n",
    "        \"name\": \"news\",\n",
    "        \"labels\"  : [\"category\"],\n",
    "        \"text_label\": \"headline,short_description\"\n",
    "    },\n",
    "    {\n",
    "        \"data_dir\": sentiment_data_dir,\n",
    "        \"name\": \"sentiment\",\n",
    "        \"labels\"  : [\"sentiment\"],\n",
    "        \"text_label\": \"text\"\n",
    "    }  \n",
    "]                       \n",
    "  \n",
    "# Classifier to use. You can use any scikit learn classifier listed in the python code  \n",
    "# \"DecisionTreeClassifier\", \"RandomForestClassifier\", \"LogisticRegression\", \"MLPClassifier\",  \n",
    "# \"GaussianNB\", \"MultinomialNB\", \"KNeighborsClassifier\", \"LinearSVC\", \"Perceptron\"  \n",
    "classifier = \"LogisticRegression\"\n",
    "\n",
    "\n",
    "for configuration in data_configurations:\n",
    "    data_dir = configuration[\"data_dir\"]\n",
    "    eval_data = os.path.join(data_dir,\"classifier_data_eval.jsonl\")\n",
    "    training_data = os.path.join(data_dir,\"classifier_data_train.jsonl\")\n",
    "    results_data_dir = os.path.join(data_dir,\"results\")\n",
    "    text_label = configuration[\"text_label\"]\n",
    "    labels = configuration[\"labels\"]\n",
    "    name = configuration[\"name\"]\n",
    "    for label in labels:\n",
    "        output_label = f\"{name}\"\n",
    "        print(f\"Running classifier {classifier} on data {output_label} and label {label}\")\n",
    "        %run run_classifier.py --classifier {classifier} --training {training_data} --input {eval_data} --output {results_data_dir} --label {label} --text_label {text_label} --max_train 100\n"
   ]
  },
  {
   "cell_type": "code",
   "execution_count": null,
   "id": "1b659c97",
   "metadata": {},
   "outputs": [],
   "source": []
  },
  {
   "cell_type": "code",
   "execution_count": null,
   "id": "434d8289",
   "metadata": {},
   "outputs": [],
   "source": []
  }
 ],
 "metadata": {
  "kernelspec": {
   "display_name": "Python 3 (ipykernel)",
   "language": "python",
   "name": "python3"
  },
  "language_info": {
   "codemirror_mode": {
    "name": "ipython",
    "version": 3
   },
   "file_extension": ".py",
   "mimetype": "text/x-python",
   "name": "python",
   "nbconvert_exporter": "python",
   "pygments_lexer": "ipython3",
   "version": "3.11.3"
  }
 },
 "nbformat": 4,
 "nbformat_minor": 5
}
