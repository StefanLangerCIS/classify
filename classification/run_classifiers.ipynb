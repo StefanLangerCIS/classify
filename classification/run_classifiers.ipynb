{
 "cells": [
  {
   "cell_type": "code",
   "execution_count": null,
   "id": "7df2c88b",
   "metadata": {},
   "outputs": [
    {
     "name": "stdout",
     "output_type": "stream",
     "text": [
      "Running classifier LogisticRegression on data letters and label author\n",
      "INFO: Evaluating classifier(s) ['LogisticRegression']\n",
      "INFO: Evaluating classification of classifier LogisticRegression\n",
      "INFO: Reading training data from C:/ProjectData/Uni/classif_srch/data\\letters/classification\\classifier_data_train.jsonl\n",
      "INFO: Training classifier LogisticRegression with text fields ['text'] for label author\n",
      "INFO: creating TF-IDF Matrix\n",
      "INFO: TF-IDF matrix creation completed\n",
      "INFO: Starting fitting of classifier\n"
     ]
    },
    {
     "name": "stderr",
     "output_type": "stream",
     "text": [
      "C:\\Apps\\python_envs\\uni\\Lib\\site-packages\\sklearn\\linear_model\\_logistic.py:460: ConvergenceWarning: lbfgs failed to converge (status=1):\n",
      "STOP: TOTAL NO. of ITERATIONS REACHED LIMIT.\n",
      "\n",
      "Increase the number of iterations (max_iter) or scale the data as shown in:\n",
      "    https://scikit-learn.org/stable/modules/preprocessing.html\n",
      "Please also refer to the documentation for alternative solver options:\n",
      "    https://scikit-learn.org/stable/modules/linear_model.html#logistic-regression\n",
      "  n_iter_i = _check_optimize_result(\n"
     ]
    },
    {
     "name": "stdout",
     "output_type": "stream",
     "text": [
      "INFO: Fitting completed\n",
      "INFO: Training completed in 405 seconds\n",
      "INFO: Starting classification of data in C:/ProjectData/Uni/classif_srch/data\\letters/classification\\classifier_data_eval.jsonl with classifier LogisticRegression\n",
      "INFO: Classification completed for classifier LogisticRegression in 9 s\n",
      "INFO: Writing results of classifier LogisticRegression to C:/ProjectData/Uni/classif_srch/data\\letters/classification\\results\\results_LogisticRegression_author.txt\n",
      "INFO: Processing completed for classifier LogisticRegression\n",
      "Running classifier LogisticRegression on data letters and label lang\n",
      "INFO: Evaluating classifier(s) ['LogisticRegression']\n",
      "INFO: Evaluating classification of classifier LogisticRegression\n",
      "INFO: Reading training data from C:/ProjectData/Uni/classif_srch/data\\letters/classification\\classifier_data_train.jsonl\n",
      "INFO: Training classifier LogisticRegression with text fields ['text'] for label lang\n",
      "INFO: creating TF-IDF Matrix\n",
      "INFO: TF-IDF matrix creation completed\n",
      "INFO: Starting fitting of classifier\n"
     ]
    },
    {
     "name": "stderr",
     "output_type": "stream",
     "text": [
      "C:\\Apps\\python_envs\\uni\\Lib\\site-packages\\sklearn\\linear_model\\_logistic.py:460: ConvergenceWarning: lbfgs failed to converge (status=1):\n",
      "STOP: TOTAL NO. of ITERATIONS REACHED LIMIT.\n",
      "\n",
      "Increase the number of iterations (max_iter) or scale the data as shown in:\n",
      "    https://scikit-learn.org/stable/modules/preprocessing.html\n",
      "Please also refer to the documentation for alternative solver options:\n",
      "    https://scikit-learn.org/stable/modules/linear_model.html#logistic-regression\n",
      "  n_iter_i = _check_optimize_result(\n"
     ]
    },
    {
     "name": "stdout",
     "output_type": "stream",
     "text": [
      "INFO: Fitting completed\n",
      "INFO: Training completed in 412 seconds\n",
      "INFO: Starting classification of data in C:/ProjectData/Uni/classif_srch/data\\letters/classification\\classifier_data_eval.jsonl with classifier LogisticRegression\n",
      "INFO: Classification completed for classifier LogisticRegression in 10 s\n",
      "INFO: Writing results of classifier LogisticRegression to C:/ProjectData/Uni/classif_srch/data\\letters/classification\\results\\results_LogisticRegression_lang.txt\n",
      "INFO: Processing completed for classifier LogisticRegression\n",
      "Running classifier LogisticRegression on data news and label category\n",
      "INFO: Evaluating classifier(s) ['LogisticRegression']\n",
      "INFO: Evaluating classification of classifier LogisticRegression\n",
      "INFO: Reading training data from C:/ProjectData/Uni/classif_srch/data\\news/classification\\classifier_data_train.jsonl\n",
      "INFO: Training classifier LogisticRegression with text fields ['headline', 'short_description'] for label category\n",
      "INFO: creating TF-IDF Matrix\n",
      "INFO: TF-IDF matrix creation completed\n",
      "INFO: Starting fitting of classifier\n"
     ]
    }
   ],
   "source": [
    "import os\n",
    "# Convenience script (python) to run some classifiers\n",
    "base_data_dir = r\"C:/ProjectData/Uni/classif_srch/data\"\n",
    "letters_data_dir = os.path.join(base_data_dir, \"letters/classification\")\n",
    "news_data_dir = os.path.join(base_data_dir, \"news/classification\")\n",
    "sentiment_data_dir = os.path.join(base_data_dir, \"sentiment/classification\")\n",
    "\n",
    "# Data description\n",
    "# labels are the labels to use for classification\n",
    "# text_label is the label comma separated list of text fields\n",
    "data_configurations = [\n",
    "    {\n",
    "        \"data_dir\": letters_data_dir,\n",
    "        \"name\": \"letters\",\n",
    "        \"labels\"  : [\"author\", \"lang\"],\n",
    "        \"text_label\" : \"text\"\n",
    "    },\n",
    "    {\n",
    "        \"data_dir\": news_data_dir,\n",
    "        \"name\": \"news\",\n",
    "        \"labels\"  : [\"category\"],\n",
    "        \"text_label\": \"headline,short_description\"\n",
    "    },\n",
    "    {\n",
    "        \"data_dir\": sentiment_data_dir,\n",
    "        \"name\": \"sentiment\",\n",
    "        \"labels\"  : [\"sentiment\"],\n",
    "        \"text_label\": \"text\"\n",
    "    }  \n",
    "]                       \n",
    "  \n",
    "# Classifier to use. You can use any scikit learn classifier listed in the python code  \n",
    "# \"DecisionTreeClassifier\", \"RandomForestClassifier\", \"LogisticRegression\", \"MLPClassifier\",  \n",
    "# \"GaussianNB\", \"MultinomialNB\", \"KNeighborsClassifier\", \"LinearSVC\", \"Perceptron\"  \n",
    "classifier = \"LogisticRegression\"\n",
    "\n",
    "\n",
    "for configuration in data_configurations:\n",
    "    data_dir = configuration[\"data_dir\"]\n",
    "    eval_data = os.path.join(data_dir,\"classifier_data_eval.jsonl\")\n",
    "    training_data = os.path.join(data_dir,\"classifier_data_train.jsonl\")\n",
    "    results_data_dir = os.path.join(data_dir,\"results\")\n",
    "    text_label = configuration[\"text_label\"]\n",
    "    labels = configuration[\"labels\"]\n",
    "    name = configuration[\"name\"]\n",
    "    for label in labels:\n",
    "        output_label = f\"{name}\"\n",
    "        print(f\"Running classifier {classifier} on data {output_label} and label {label}\")\n",
    "        %run run_classifier.py --classifier {classifier} --training {training_data} --input {eval_data} --output {results_data_dir} --label {label} --text_label {text_label}"
   ]
  }
 ],
 "metadata": {
  "kernelspec": {
   "display_name": "Python 3 (ipykernel)",
   "language": "python",
   "name": "python3"
  },
  "language_info": {
   "codemirror_mode": {
    "name": "ipython",
    "version": 3
   },
   "file_extension": ".py",
   "mimetype": "text/x-python",
   "name": "python",
   "nbconvert_exporter": "python",
   "pygments_lexer": "ipython3",
   "version": "3.11.3"
  }
 },
 "nbformat": 4,
 "nbformat_minor": 5
}
