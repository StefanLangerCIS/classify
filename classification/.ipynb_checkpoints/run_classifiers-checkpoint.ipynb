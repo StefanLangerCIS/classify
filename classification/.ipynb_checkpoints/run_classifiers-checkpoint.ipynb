{
 "cells": [
  {
   "cell_type": "code",
   "execution_count": 1,
   "id": "7df2c88b",
   "metadata": {},
   "outputs": [
    {
     "name": "stdout",
     "output_type": "stream",
     "text": [
      "Running classifier LogisticRegression on data letters and label author\n"
     ]
    },
    {
     "name": "stderr",
     "output_type": "stream",
     "text": [
      "usage: run_classifier.py [-h] [--training TRAINING] [--input INPUT] [--output OUTPUT]\n",
      "                         [--classifier {DecisionTreeClassifier,RandomForestClassifier,LogisticRegression,MLPClassifier,GaussianNB,MultinomialNB,KNeighborsClassifier,LinearSVC,Perceptron,all}]\n",
      "                         [--dense] [--lsa] [--text_label TEXT_LABEL] [--label LABEL] [--max_train MAX_TRAIN]\n",
      "                         [--verbose]\n",
      "run_classifier.py: error: unrecognized arguments: --file_label letters\n"
     ]
    },
    {
     "ename": "SystemExit",
     "evalue": "2",
     "output_type": "error",
     "traceback": [
      "An exception has occurred, use %tb to see the full traceback.\n",
      "\u001b[1;31mSystemExit\u001b[0m\u001b[1;31m:\u001b[0m 2\n"
     ]
    },
    {
     "name": "stdout",
     "output_type": "stream",
     "text": [
      "Running classifier LogisticRegression on data letters and label lang\n"
     ]
    },
    {
     "name": "stderr",
     "output_type": "stream",
     "text": [
      "usage: run_classifier.py [-h] [--training TRAINING] [--input INPUT] [--output OUTPUT]\n",
      "                         [--classifier {DecisionTreeClassifier,RandomForestClassifier,LogisticRegression,MLPClassifier,GaussianNB,MultinomialNB,KNeighborsClassifier,LinearSVC,Perceptron,all}]\n",
      "                         [--dense] [--lsa] [--text_label TEXT_LABEL] [--label LABEL] [--max_train MAX_TRAIN]\n",
      "                         [--verbose]\n",
      "run_classifier.py: error: unrecognized arguments: --file_label letters\n"
     ]
    },
    {
     "ename": "SystemExit",
     "evalue": "2",
     "output_type": "error",
     "traceback": [
      "An exception has occurred, use %tb to see the full traceback.\n",
      "\u001b[1;31mSystemExit\u001b[0m\u001b[1;31m:\u001b[0m 2\n"
     ]
    },
    {
     "name": "stdout",
     "output_type": "stream",
     "text": [
      "Running classifier LogisticRegression on data news and label category\n"
     ]
    },
    {
     "name": "stderr",
     "output_type": "stream",
     "text": [
      "usage: run_classifier.py [-h] [--training TRAINING] [--input INPUT] [--output OUTPUT]\n",
      "                         [--classifier {DecisionTreeClassifier,RandomForestClassifier,LogisticRegression,MLPClassifier,GaussianNB,MultinomialNB,KNeighborsClassifier,LinearSVC,Perceptron,all}]\n",
      "                         [--dense] [--lsa] [--text_label TEXT_LABEL] [--label LABEL] [--max_train MAX_TRAIN]\n",
      "                         [--verbose]\n",
      "run_classifier.py: error: unrecognized arguments: --file_label news\n"
     ]
    },
    {
     "ename": "SystemExit",
     "evalue": "2",
     "output_type": "error",
     "traceback": [
      "An exception has occurred, use %tb to see the full traceback.\n",
      "\u001b[1;31mSystemExit\u001b[0m\u001b[1;31m:\u001b[0m 2\n"
     ]
    },
    {
     "name": "stdout",
     "output_type": "stream",
     "text": [
      "Running classifier LogisticRegression on data sentiment and label sentiment\n"
     ]
    },
    {
     "name": "stderr",
     "output_type": "stream",
     "text": [
      "usage: run_classifier.py [-h] [--training TRAINING] [--input INPUT] [--output OUTPUT]\n",
      "                         [--classifier {DecisionTreeClassifier,RandomForestClassifier,LogisticRegression,MLPClassifier,GaussianNB,MultinomialNB,KNeighborsClassifier,LinearSVC,Perceptron,all}]\n",
      "                         [--dense] [--lsa] [--text_label TEXT_LABEL] [--label LABEL] [--max_train MAX_TRAIN]\n",
      "                         [--verbose]\n",
      "run_classifier.py: error: unrecognized arguments: --file_label sentiment\n"
     ]
    },
    {
     "ename": "SystemExit",
     "evalue": "2",
     "output_type": "error",
     "traceback": [
      "An exception has occurred, use %tb to see the full traceback.\n",
      "\u001b[1;31mSystemExit\u001b[0m\u001b[1;31m:\u001b[0m 2\n"
     ]
    }
   ],
   "source": [
    "import os\n",
    "# Convenience script (python) to run some classifiers\n",
    "base_data_dir = r\"C:/ProjectData/Uni/classif_srch/data\"\n",
    "letters_data_dir = os.path.join(base_data_dir, \"letters/classification\")\n",
    "news_data_dir = os.path.join(base_data_dir, \"news/classification\")\n",
    "sentiment_data_dir = os.path.join(base_data_dir, \"sentiment/classification\")\n",
    "\n",
    "# Data description\n",
    "# labels are the labels to use for classification\n",
    "# text_label is the label comma separated list of text fields\n",
    "data_configurations = [\n",
    "    {\n",
    "        \"data_dir\": letters_data_dir,\n",
    "        \"name\": \"letters\",\n",
    "        \"labels\"  : [\"author\", \"lang\"],\n",
    "        \"text_label\" : \"text\"\n",
    "    },\n",
    "    {\n",
    "        \"data_dir\": news_data_dir,\n",
    "        \"name\": \"news\",\n",
    "        \"labels\"  : [\"category\"],\n",
    "        \"text_label\": \"headline,short_description\"\n",
    "    },\n",
    "    {\n",
    "        \"data_dir\": sentiment_data_dir,\n",
    "        \"name\": \"sentiment\",\n",
    "        \"labels\"  : [\"sentiment\"],\n",
    "        \"text_label\": \"text\"\n",
    "    }  \n",
    "]                       \n",
    "  \n",
    "# Classifier to use. You can use any scikit learn classifier listed in the python code  \n",
    "# \"DecisionTreeClassifier\", \"RandomForestClassifier\", \"LogisticRegression\", \"MLPClassifier\",  \n",
    "# \"GaussianNB\", \"MultinomialNB\", \"KNeighborsClassifier\", \"LinearSVC\", \"Perceptron\"  \n",
    "classifier = \"LogisticRegression\"\n",
    "\n",
    "\n",
    "for configuration in data_configurations:\n",
    "    data_dir = configuration[\"data_dir\"]\n",
    "    eval_data = os.path.join(data_dir,\"classifier_data_eval.jsonl\")\n",
    "    training_data = os.path.join(data_dir,\"classifier_data_train.jsonl\")\n",
    "    results_data_dir = os.path.join(data_dir,\"results\")\n",
    "    text_label = configuration[\"text_label\"]\n",
    "    labels = configuration[\"labels\"]\n",
    "    name = configuration[\"name\"]\n",
    "    for label in labels:\n",
    "        output_label = f\"{name}\"\n",
    "        print(f\"Running classifier {classifier} on data {output_label} and label {label}\")\n",
    "        %run run_classifier.py --classifier {classifier} --training {training_data} --input {eval_data} --output {results_data_dir} --label {label} --text_label {text_label} --max_train 100\n"
   ]
  },
  {
   "cell_type": "code",
   "execution_count": null,
   "id": "1b659c97",
   "metadata": {},
   "outputs": [],
   "source": []
  },
  {
   "cell_type": "code",
   "execution_count": null,
   "id": "434d8289",
   "metadata": {},
   "outputs": [],
   "source": []
  }
 ],
 "metadata": {
  "kernelspec": {
   "display_name": "Python 3 (ipykernel)",
   "language": "python",
   "name": "python3"
  },
  "language_info": {
   "codemirror_mode": {
    "name": "ipython",
    "version": 3
   },
   "file_extension": ".py",
   "mimetype": "text/x-python",
   "name": "python",
   "nbconvert_exporter": "python",
   "pygments_lexer": "ipython3",
   "version": "3.11.3"
  }
 },
 "nbformat": 4,
 "nbformat_minor": 5
}
